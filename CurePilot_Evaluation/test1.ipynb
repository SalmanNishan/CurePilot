{
 "cells": [
  {
   "cell_type": "code",
   "execution_count": 2,
   "metadata": {},
   "outputs": [
    {
     "name": "stdout",
     "output_type": "stream",
     "text": [
      "<pymongo.command_cursor.CommandCursor object at 0x7f345e3e1960>\n"
     ]
    }
   ],
   "source": [
    "from pymongo import MongoClient\n",
    "\n",
    "# Replace these with your actual MongoDB connection details\n",
    "client = MongoClient('mongodb://172.16.101.171:27017/')\n",
    "db = client['LLM']  # Replace with your database name\n",
    "collection = db['CureDoc_Evaluation']  # Replace with your collection name\n",
    "\n",
    "# Define the aggregation pipeline\n",
    "pipeline = [\n",
    "    {\n",
    "        '$match': {\n",
    "            'Name': 'SpecificDiseaseName'  # Replace with the actual disease name you're querying\n",
    "        }\n",
    "    },\n",
    "    {\n",
    "        '$unwind': '$entries'\n",
    "    },\n",
    "    {\n",
    "        '$unwind': '$entries.Doc1.Cd_rating'  # Adjust for each doctor you need to average\n",
    "    },\n",
    "    {\n",
    "        '$group': {\n",
    "            '_id': '$entries.Doc1',  # Adjust the grouping criteria based on your data structure\n",
    "            'avgClarity': {'$avg': '$entries.Doc1.Cd_rating.Clarity'},\n",
    "            'avgAccuracy': {'$avg': '$entries.Doc1.Cd_rating.Accuracy'},\n",
    "            'avgBrevity': {'$avg': '$entries.Doc1.Cd_rating.Brevity'},\n",
    "            'avgRelevance': {'$avg': '$entries.Doc1.Cd_rating.Relevance'},\n",
    "            # Add other fields as necessary\n",
    "        }\n",
    "    }\n",
    "]\n",
    "\n",
    "# Execute the aggregation pipeline\n",
    "results = collection.aggregate(pipeline)\n",
    "print(results)\n",
    "# Print the results\n",
    "for result in results:\n",
    "    print(result)\n",
    "    print('here')\n"
   ]
  },
  {
   "cell_type": "code",
   "execution_count": 11,
   "metadata": {},
   "outputs": [
    {
     "name": "stdout",
     "output_type": "stream",
     "text": [
      "Doc1 average ratings: {'Clarity': 0.0, 'Accuracy': 0.0, 'Brevity': 0.0, 'Relevance': 0.0}\n",
      "Doc2 average ratings: {'Clarity': 0.375, 'Accuracy': 0.875, 'Brevity': 0.875, 'Relevance': 0.125}\n",
      "Doc3 average ratings: {'Clarity': 8.875, 'Accuracy': 8.75, 'Brevity': 7.25, 'Relevance': 9.3125}\n",
      "Model 2\n"
     ]
    }
   ],
   "source": [
    "from pymongo import MongoClient\n",
    "\n",
    "# Replace these with your actual MongoDB connection details\n",
    "client = MongoClient('mongodb://172.16.101.171:27017/')\n",
    "db = client['LLM']  # Replace with your database name\n",
    "collection = db['CureDoc_Evaluation']  \n",
    "\n",
    "# Specific disease name you're interested in\n",
    "disease_name = \"Diabetes treatment questions-Dr Ali\"  # Example disease name, replace with your target\n",
    "\n",
    "# Aggregation pipeline adjusted for nested structure\n",
    "pipeline = [\n",
    "    {\n",
    "        '$match': {\n",
    "            'Name': disease_name  # Filters documents by disease name\n",
    "        }\n",
    "    },\n",
    "    {\n",
    "        '$unwind': '$entries'  # Deconstructs the entries array\n",
    "    },\n",
    "    {\n",
    "        '$project': {\n",
    "            'entries': 1,\n",
    "            '_id': 0  # Exclude the _id field from the results\n",
    "        }\n",
    "    }\n",
    "]\n",
    "\n",
    "# Execute the aggregation pipeline\n",
    "results = collection.aggregate(pipeline)\n",
    "\n",
    "# Helper function to calculate average rating\n",
    "def calculate_average_rating(ratings):\n",
    "    rating_keys = ['Clarity', 'Accuracy', 'Brevity', 'Relevance']\n",
    "    averages = {}\n",
    "    for key in rating_keys:\n",
    "        # Filter out non-numeric values and calculate average\n",
    "        numeric_values = [rating[key] for rating in ratings if isinstance(rating.get(key), (int, float)) and rating.get(key) is not None]\n",
    "        if numeric_values:\n",
    "            averages[key] = sum(numeric_values) / len(numeric_values)\n",
    "        else:\n",
    "            averages[key] = None  # Handle case where no ratings are available\n",
    "    return averages\n",
    "\n",
    "# Processing results\n",
    "doc_ratings = {'Doc1': [], 'Doc2': [], 'Doc3': []}  # Adjust based on the number of doctors\n",
    "gpt_ratings = {'Doc1': [], 'Doc2': [], 'Doc3': []} \n",
    "for entry in results:\n",
    "    for doc in doc_ratings.keys():\n",
    "        if doc in entry['entries']:\n",
    "            doc_ratings[doc].append(entry['entries'][doc]['gpt_rating'])\n",
    "\n",
    "# Calculate average ratings for each doctor\n",
    "for doc, ratings in doc_ratings.items():\n",
    "    average_ratings = calculate_average_rating(ratings)\n",
    "    print(f\"{doc} average ratings: {average_ratings}\")\n",
    "\n",
    "print('Model 2')\n",
    "\n",
    "# for entry in results:\n",
    "#     for doc in gpt_ratings.keys():\n",
    "#         if doc in entry['entries']:\n",
    "#             gpt_ratings[doc].append(entry['entries'][doc]['gpt_rating'])\n",
    "\n",
    "# # Calculate average ratings for each doctor\n",
    "# for doc, ratings in gpt_ratings.items():\n",
    "#     average_ratings = calculate_average_rating(ratings)\n",
    "#     print(f\"{doc} average ratings: {average_ratings}\")"
   ]
  },
  {
   "cell_type": "code",
   "execution_count": null,
   "metadata": {},
   "outputs": [],
   "source": []
  },
  {
   "cell_type": "code",
   "execution_count": null,
   "metadata": {},
   "outputs": [],
   "source": []
  }
 ],
 "metadata": {
  "kernelspec": {
   "display_name": "env",
   "language": "python",
   "name": "python3"
  },
  "language_info": {
   "codemirror_mode": {
    "name": "ipython",
    "version": 3
   },
   "file_extension": ".py",
   "mimetype": "text/x-python",
   "name": "python",
   "nbconvert_exporter": "python",
   "pygments_lexer": "ipython3",
   "version": "3.10.12"
  }
 },
 "nbformat": 4,
 "nbformat_minor": 2
}
