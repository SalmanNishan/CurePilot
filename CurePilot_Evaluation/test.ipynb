{
 "cells": [
  {
   "cell_type": "code",
   "execution_count": 2,
   "metadata": {},
   "outputs": [],
   "source": [
    "import json \n",
    "with open('LLM.CureDoc_Evaluation.json', 'r') as file:\n",
    "    old_format = json.load(file)\n",
    "\n",
    "def transform_entry(entry):\n",
    "    \"\"\"\n",
    "    Transform an old format entry to the new format.\n",
    "    \"\"\"\n",
    "    transformed = {\n",
    "        \"input\": entry[\"input\"],\n",
    "        \"output\": entry[\"output\"],\n",
    "        \"Doc1\": {\n",
    "            \"Cd_rating\": {\"1st\": \"\", \"2nd\": \"\", \"3rd\": \"\", \"4th\": \"\", \"suggestion\": \"\"},\n",
    "            \"gpt_rating\": {\"1st\": \"\", \"2nd\": \"\", \"3rd\": \"\", \"4th\": \"\", \"suggestion\": \"\"}\n",
    "        },\n",
    "        \"Doc2\": {\n",
    "            \"Cd_rating\": {\"1st\": \"\", \"2nd\": \"\", \"3rd\": \"\", \"4th\": entry.get('rating',0), \"suggestion\": entry.get(\"suggestions\", \"\")},\n",
    "            \"gpt_rating\": {\"1st\": \"\", \"2nd\": \"\", \"3rd\": \"\", \"4th\": \"\", \"suggestion\": \"\"}\n",
    "        },\n",
    "        \"Doc3\": {\n",
    "            \"Cd_rating\": {\"1st\": \"\", \"2nd\": \"\", \"3rd\": \"\", \"4th\": \"\", \"suggestion\": \"\"},\n",
    "            \"gpt_rating\": {\"1st\": \"\", \"2nd\": \"\", \"3rd\": \"\", \"4th\": \"\", \"suggestion\": \"\"}\n",
    "        },\n",
    "        \"gpt_output\": entry[\"gpt_output\"]\n",
    "    }\n",
    "    return transformed\n",
    "\n",
    "def convert_format(old_format):\n",
    "    \"\"\"\n",
    "    Convert the entire old format to the new one.\n",
    "    \"\"\"\n",
    "    new_format = []\n",
    "    for old_data in old_format:\n",
    "        new_data = {\n",
    "            \"_id\": old_data[\"_id\"],\n",
    "            \"Name\": old_data[\"Name\"],\n",
    "            \"entries\": [transform_entry(entry) for entry in old_data[\"entries\"]]\n",
    "        }\n",
    "        new_format.append(new_data)\n",
    "    return new_format\n",
    "\n",
    "new_format = convert_format(old_format)\n",
    "\n",
    "with open('LLM.CureDoc_Evaluation_test.json', 'w') as file:\n",
    "    json.dump(new_format, file, indent=4)\n"
   ]
  },
  {
   "cell_type": "code",
   "execution_count": 7,
   "metadata": {},
   "outputs": [
    {
     "name": "stdout",
     "output_type": "stream",
     "text": [
      "Data downloaded and saved to CureDoc_Evaluation_data.json\n"
     ]
    }
   ],
   "source": [
    "from pymongo import MongoClient\n",
    "import json\n",
    "\n",
    "# MongoDB connection setup\n",
    "client = MongoClient('mongodb://172.16.101.171:27017/')\n",
    "db = client['LLM']  # Database name\n",
    "collection = db['CureDoc_Evaluation']  # Collection name\n",
    "\n",
    "# Fetch all documents from the collection\n",
    "data = list(collection.find({}))\n",
    "\n",
    "# Convert the MongoDB documents to a format that can be JSON serialized.\n",
    "# ObjectIds are not serializable by default, so we convert them to strings.\n",
    "for doc in data:\n",
    "    doc['_id'] = str(doc['_id'])\n",
    "\n",
    "# Save the data to a JSON file\n",
    "with open('CureDoc_Evaluation_data_1.json', 'w') as f:\n",
    "    json.dump(data, f, indent=4)\n",
    "\n",
    "# Close the MongoDB connection\n",
    "client.close()\n",
    "\n",
    "print(\"Data downloaded and saved to CureDoc_Evaluation_data.json\")\n"
   ]
  },
  {
   "cell_type": "code",
   "execution_count": 3,
   "metadata": {},
   "outputs": [],
   "source": [
    "import json\n",
    "from pymongo import MongoClient"
   ]
  },
  {
   "cell_type": "code",
   "execution_count": 17,
   "metadata": {},
   "outputs": [
    {
     "name": "stdout",
     "output_type": "stream",
     "text": [
      "Data has been successfully modified and saved to output.json\n"
     ]
    }
   ],
   "source": [
    "import json\n",
    "\n",
    "# Function to replace keys in both Cd_rating and gpt_rating\n",
    "def replace_keys_in_ratings(data):\n",
    "    for doc in data:\n",
    "        if \"entries\" in doc:  # Ensure 'entries' key exists\n",
    "            for entry in doc[\"entries\"]:\n",
    "                # Process each doctor's ratings\n",
    "                for doc_key in ['Doc1', 'Doc2', 'Doc3']:\n",
    "                    doctor = entry.get(doc_key)\n",
    "                    if doctor is not None:  # Check if the doctor key exists in the entry\n",
    "                        # Apply changes to both 'Cd_rating' and 'gpt_rating' for each doctor\n",
    "                        for rating_key in [\"Cd_rating\", \"gpt_rating\"]:\n",
    "                            rating = doctor.get(rating_key)\n",
    "                            if rating is not None:  # Ensure the rating exists and is a dictionary\n",
    "                                # Only add new keys if they don't already exist\n",
    "                                if \"1st\" in rating and \"Clarity\" not in rating:\n",
    "                                    rating[\"Clarity\"] = rating.pop(\"1st\")\n",
    "                                if \"2nd\" in rating and \"Accuracy\" not in rating:\n",
    "                                    rating[\"Accuracy\"] = rating.pop(\"2nd\")\n",
    "                                if \"3rd\" in rating and \"Brevity\" not in rating:\n",
    "                                    rating[\"Brevity\"] = rating.pop(\"3rd\")\n",
    "                                if \"4th\" in rating and \"Relevance\" not in rating:\n",
    "                                    rating[\"Relevance\"] = rating.pop(\"4th\")\n",
    "\n",
    "# Read data from input.json\n",
    "with open('CureDoc_Evaluation_data_1.json', 'r') as f:\n",
    "    data = json.load(f)\n",
    "\n",
    "# Apply the modifications\n",
    "replace_keys_in_ratings(data)\n",
    "\n",
    "# Save the modified data into output.json\n",
    "with open('CureDoc_Evaluation_test_final_1.json', 'w') as f:\n",
    "    json.dump(data, f, indent=4)\n",
    "\n",
    "print(\"Data has been successfully modified and saved to output.json\")\n"
   ]
  },
  {
   "cell_type": "code",
   "execution_count": 6,
   "metadata": {},
   "outputs": [
    {
     "ename": "TypeError",
     "evalue": "argument of type 'int' is not iterable",
     "output_type": "error",
     "traceback": [
      "\u001b[0;31m---------------------------------------------------------------------------\u001b[0m",
      "\u001b[0;31mTypeError\u001b[0m                                 Traceback (most recent call last)",
      "Cell \u001b[0;32mIn[6], line 25\u001b[0m\n\u001b[1;32m     23\u001b[0m \u001b[38;5;28;01mfor\u001b[39;00m doc \u001b[38;5;129;01min\u001b[39;00m data:\n\u001b[1;32m     24\u001b[0m     \u001b[38;5;28;01mfor\u001b[39;00m entry \u001b[38;5;129;01min\u001b[39;00m doc[\u001b[38;5;124m\"\u001b[39m\u001b[38;5;124mentries\u001b[39m\u001b[38;5;124m\"\u001b[39m]:\n\u001b[0;32m---> 25\u001b[0m         \u001b[43mreplace_keys_in_ratings\u001b[49m\u001b[43m(\u001b[49m\u001b[43mentry\u001b[49m\u001b[43m)\u001b[49m\n\u001b[1;32m     27\u001b[0m     \u001b[38;5;66;03m# Update the document in MongoDB\u001b[39;00m\n\u001b[1;32m     28\u001b[0m     \u001b[38;5;66;03m# collection.update_one({'_id': doc['_id']}, {'$set': doc})\u001b[39;00m\n\u001b[1;32m     29\u001b[0m \n\u001b[1;32m     30\u001b[0m \u001b[38;5;66;03m# Close the MongoDB connection\u001b[39;00m\n\u001b[1;32m     31\u001b[0m client\u001b[38;5;241m.\u001b[39mclose()\n",
      "Cell \u001b[0;32mIn[6], line 7\u001b[0m, in \u001b[0;36mreplace_keys_in_ratings\u001b[0;34m(entry)\u001b[0m\n\u001b[1;32m      5\u001b[0m \u001b[38;5;28;01mfor\u001b[39;00m key \u001b[38;5;129;01min\u001b[39;00m [\u001b[38;5;124m\"\u001b[39m\u001b[38;5;124mCd_rating\u001b[39m\u001b[38;5;124m\"\u001b[39m, \u001b[38;5;124m\"\u001b[39m\u001b[38;5;124mgpt_rating\u001b[39m\u001b[38;5;124m\"\u001b[39m]:\n\u001b[1;32m      6\u001b[0m     \u001b[38;5;28;01mfor\u001b[39;00m doc_key, doc_rating \u001b[38;5;129;01min\u001b[39;00m entry\u001b[38;5;241m.\u001b[39mitems():\n\u001b[0;32m----> 7\u001b[0m         \u001b[38;5;28;01mif\u001b[39;00m \u001b[43mkey\u001b[49m\u001b[43m \u001b[49m\u001b[38;5;129;43;01min\u001b[39;49;00m\u001b[43m \u001b[49m\u001b[43mdoc_rating\u001b[49m:\n\u001b[1;32m      8\u001b[0m             rating \u001b[38;5;241m=\u001b[39m doc_rating[key]\n\u001b[1;32m      9\u001b[0m             rating[\u001b[38;5;124m\"\u001b[39m\u001b[38;5;124mClarity\u001b[39m\u001b[38;5;124m\"\u001b[39m] \u001b[38;5;241m=\u001b[39m rating\u001b[38;5;241m.\u001b[39mpop(\u001b[38;5;124m\"\u001b[39m\u001b[38;5;124m1st\u001b[39m\u001b[38;5;124m\"\u001b[39m, \u001b[38;5;28;01mNone\u001b[39;00m)\n",
      "\u001b[0;31mTypeError\u001b[0m: argument of type 'int' is not iterable"
     ]
    }
   ],
   "source": [
    "from pymongo import MongoClient\n",
    "\n",
    "# Function to replace keys in both Cd_rating and gpt_rating\n",
    "def replace_keys_in_ratings(entry):\n",
    "    for key in [\"Cd_rating\", \"gpt_rating\"]:\n",
    "        for doc_key, doc_rating in entry.items():\n",
    "            if key in doc_rating:\n",
    "                rating = doc_rating[key]\n",
    "                rating[\"Clarity\"] = rating.pop(\"1st\", None)\n",
    "                rating[\"Accuracy\"] = rating.pop(\"2nd\", None)\n",
    "                rating[\"Brevity\"] = rating.pop(\"3rd\", None)\n",
    "                rating[\"Relevance\"] = rating.pop(\"4th\", None)\n",
    "\n",
    "# MongoDB connection setup\n",
    "client = MongoClient('mongodb://172.16.101.171:27017/')\n",
    "db = client['LLM']  # Replace with your database name\n",
    "collection = db['CureDoc_Evaluation']  # Replace with your collection name\n",
    "\n",
    "# Fetch data from MongoDB\n",
    "data = collection.find({})\n",
    "\n",
    "# Apply the modifications to each document\n",
    "for doc in data:\n",
    "    for entry in doc[\"entries\"]:\n",
    "        replace_keys_in_ratings(entry)\n",
    "\n",
    "    # Update the document in MongoDB\n",
    "    # collection.update_one({'_id': doc['_id']}, {'$set': doc})\n",
    "\n",
    "# Close the MongoDB connection\n",
    "client.close()"
   ]
  },
  {
   "cell_type": "code",
   "execution_count": null,
   "metadata": {},
   "outputs": [],
   "source": []
  }
 ],
 "metadata": {
  "kernelspec": {
   "display_name": "env",
   "language": "python",
   "name": "python3"
  },
  "language_info": {
   "codemirror_mode": {
    "name": "ipython",
    "version": 3
   },
   "file_extension": ".py",
   "mimetype": "text/x-python",
   "name": "python",
   "nbconvert_exporter": "python",
   "pygments_lexer": "ipython3",
   "version": "3.10.12"
  }
 },
 "nbformat": 4,
 "nbformat_minor": 2
}
